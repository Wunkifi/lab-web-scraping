{
  "cells": [
    {
      "cell_type": "markdown",
      "id": "7e7a1ab8-2599-417d-9a65-25ef07f3a786",
      "metadata": {
        "id": "7e7a1ab8-2599-417d-9a65-25ef07f3a786"
      },
      "source": [
        "# Lab | Web Scraping"
      ]
    },
    {
      "cell_type": "markdown",
      "id": "ce8882fc-4815-4567-92fa-b4816358ba7d",
      "metadata": {
        "id": "ce8882fc-4815-4567-92fa-b4816358ba7d"
      },
      "source": [
        "Welcome to the \"Books to Scrape\" Web Scraping Adventure Lab!\n",
        "\n",
        "**Objective**\n",
        "\n",
        "In this lab, we will embark on a mission to unearth valuable insights from the data available on Books to Scrape, an online platform showcasing a wide variety of books. As data analyst, you have been tasked with scraping a specific subset of book data from Books to Scrape to assist publishing companies in understanding the landscape of highly-rated books across different genres. Your insights will help shape future book marketing strategies and publishing decisions.\n",
        "\n",
        "**Background**\n",
        "\n",
        "In a world where data has become the new currency, businesses are leveraging big data to make informed decisions that drive success and profitability. The publishing industry, much like others, utilizes data analytics to understand market trends, reader preferences, and the performance of books based on factors such as genre, author, and ratings. Books to Scrape serves as a rich source of such data, offering detailed information about a diverse range of books, making it an ideal platform for extracting insights to aid in informed decision-making within the literary world.\n",
        "\n",
        "**Task**\n",
        "\n",
        "Your task is to create a Python script using BeautifulSoup and pandas to scrape Books to Scrape book data, focusing on book ratings and genres. The script should be able to filter books with ratings above a certain threshold and in specific genres. Additionally, the script should structure the scraped data in a tabular format using pandas for further analysis.\n",
        "\n",
        "**Expected Outcome**\n",
        "\n",
        "A function named `scrape_books` that takes two parameters: `min_rating` and `max_price`. The function should scrape book data from the \"Books to Scrape\" website and return a `pandas` DataFrame with the following columns:\n",
        "\n",
        "**Expected Outcome**\n",
        "\n",
        "- A function named `scrape_books` that takes two parameters: `min_rating` and `max_price`.\n",
        "- The function should return a DataFrame with the following columns:\n",
        "  - **UPC**: The Universal Product Code (UPC) of the book.\n",
        "  - **Title**: The title of the book.\n",
        "  - **Price (£)**: The price of the book in pounds.\n",
        "  - **Rating**: The rating of the book (1-5 stars).\n",
        "  - **Genre**: The genre of the book.\n",
        "  - **Availability**: Whether the book is in stock or not.\n",
        "  - **Description**: A brief description or product description of the book (if available).\n",
        "  \n",
        "You will execute this script to scrape data for books with a minimum rating of `4.0 and above` and a maximum price of `£20`. \n",
        "\n",
        "Remember to experiment with different ratings and prices to ensure your code is versatile and can handle various searches effectively!\n",
        "\n",
        "**Resources**\n",
        "\n",
        "- [Beautiful Soup Documentation](https://www.crummy.com/software/BeautifulSoup/bs4/doc/)\n",
        "- [Pandas Documentation](https://pandas.pydata.org/pandas-docs/stable/index.html)\n",
        "- [Books to Scrape](https://books.toscrape.com/)\n"
      ]
    },
    {
      "cell_type": "markdown",
      "id": "3519921d-5890-445b-9a33-934ed8ee378c",
      "metadata": {
        "id": "3519921d-5890-445b-9a33-934ed8ee378c"
      },
      "source": [
        "**Hint**\n",
        "\n",
        "Your first mission is to familiarize yourself with the **Books to Scrape** website. Navigate to [Books to Scrape](http://books.toscrape.com/) and explore the available books to understand their layout and structure. \n",
        "\n",
        "Next, think about how you can set parameters for your data extraction:\n",
        "\n",
        "- **Minimum Rating**: Focus on books with a rating of 4.0 and above.\n",
        "- **Maximum Price**: Filter for books priced up to £20.\n",
        "\n",
        "After reviewing the site, you can construct a plan for scraping relevant data. Pay attention to the details displayed for each book, including the title, price, rating, and availability. This will help you identify the correct HTML elements to target with your scraping script.\n",
        "\n",
        "Make sure to build your scraping URL and logic based on the patterns you observe in the HTML structure of the book listings!"
      ]
    },
    {
      "cell_type": "markdown",
      "id": "25a83a0d-a742-49f6-985e-e27887cbf922",
      "metadata": {
        "id": "25a83a0d-a742-49f6-985e-e27887cbf922"
      },
      "source": [
        "\n",
        "---\n",
        "\n",
        "**Best of luck! Immerse yourself in the world of books, and may the data be with you!**"
      ]
    },
    {
      "cell_type": "markdown",
      "id": "7b75cf0d-9afa-4eec-a9e2-befeac68b2a0",
      "metadata": {
        "id": "7b75cf0d-9afa-4eec-a9e2-befeac68b2a0"
      },
      "source": [
        "**Important Note**:\n",
        "\n",
        "In the fast-changing online world, websites often update and change their structures. When you try this lab, the **Books to Scrape** website might differ from what you expect.\n",
        "\n",
        "If you encounter issues due to these changes, like new rules or obstacles preventing data extraction, don’t worry! Get creative.\n",
        "\n",
        "You can choose another website that interests you and is suitable for scraping data. Options like Wikipedia, The New York Times, or even library databases are great alternatives. The main goal remains the same: extract useful data and enhance your web scraping skills while exploring a source of information you enjoy. This is your opportunity to practice and adapt to different web environments!"
      ]
    },
    {
      "cell_type": "code",
      "execution_count": 172,
      "id": "40359eee-9cd7-4884-bfa4-83344c222305",
      "metadata": {
        "id": "40359eee-9cd7-4884-bfa4-83344c222305"
      },
      "outputs": [],
      "source": [
        "import requests\n",
        "from bs4 import BeautifulSoup\n",
        "import pandas as pd\n",
        "from word2number import w2n\n",
        "from pandas import json_normalize"
      ]
    },
    {
      "cell_type": "code",
      "execution_count": 108,
      "id": "9c11a753",
      "metadata": {},
      "outputs": [],
      "source": [
        "#Variables\n",
        "url_list = []\n",
        "page_number = 1\n",
        "min_rating = 1.0\n",
        "max_price = 5"
      ]
    },
    {
      "cell_type": "code",
      "execution_count": 106,
      "id": "bc38759d",
      "metadata": {},
      "outputs": [],
      "source": [
        "#URLS\n",
        "base_url = 'https://books.toscrape.com/catalogue/'\n",
        "current_url = ''\n",
        "catalogue_url = 'https://books.toscrape.com/catalogue/page-'+str(page_number)+'.html'"
      ]
    },
    {
      "cell_type": "code",
      "execution_count": 32,
      "id": "ae2e6852",
      "metadata": {},
      "outputs": [],
      "source": [
        "def get_new_page(page_url):\n",
        "    \"\"\"\n",
        "    ****DO NOT CALL****\n",
        "    This function takes a url and requests it. It is used inside get_soup()\n",
        "    \"\"\"\n",
        "    response = requests.get(page_url)\n",
        "    return response"
      ]
    },
    {
      "cell_type": "code",
      "execution_count": 87,
      "id": "62be14ab",
      "metadata": {},
      "outputs": [],
      "source": [
        "def next_page():\n",
        "    \"\"\"\n",
        "    This function updates the page iterator for the catalogue\n",
        "    \"\"\"\n",
        "    global page_number\n",
        "    page_number += 1"
      ]
    },
    {
      "cell_type": "code",
      "execution_count": 83,
      "id": "ff959f71",
      "metadata": {},
      "outputs": [],
      "source": [
        "def get_url_grid(url):\n",
        "    \"\"\"\n",
        "    This function is used to populate the list of links to each book where we are going to extract the information\n",
        "    \"\"\"    \n",
        "    soup = BeautifulSoup(get_new_page(url).content)\n",
        "    next_page()\n",
        "    grid = soup.find_all('article', attrs = {'class':'product_pod'})\n",
        "    return grid"
      ]
    },
    {
      "cell_type": "code",
      "execution_count": null,
      "id": "d6a306c8",
      "metadata": {},
      "outputs": [],
      "source": [
        "def get_product_details(url):\n",
        "    \"\"\"\n",
        "    This function is used to extract the information from the product page\n",
        "    \"\"\"\n",
        "    try:\n",
        "        book = {}\n",
        "        response = requests.get(url)\n",
        "        soup = BeautifulSoup(response.content)\n",
        "        page = soup.find_all('div', attrs = {'class':'page_inner'})\n",
        "        title = page[1].find('h1').get_text().strip()\n",
        "        category = page[1].find_all('a')[2].get_text().strip()\n",
        "        description = page[1].find_all(['p'])[3].get_text().strip()\n",
        "        price = float(page[1].find_all('p', attrs = {'class':'price_color'})[0].get_text().strip().replace('£',''))\n",
        "        rating = w2n.word_to_num(page[1].find_all('p')[2]['class'][1])\n",
        "        id = page[1].find_all('td')[0].get_text().strip()\n",
        "        availability = page[1].find_all('td')[5].get_text().strip()\n",
        "        href = url\n",
        "        \n",
        "        book[id] = {'title': title,\n",
        "                    'category': category,\n",
        "                    'description': description,\n",
        "                    'star_rating': rating,\n",
        "                    'price': price,\n",
        "                    'availability':availability,\n",
        "                    'href': url}\n",
        "        return book     \n",
        "    except:\n",
        "        print(url)"
      ]
    },
    {
      "cell_type": "code",
      "execution_count": 18,
      "id": "6146fea7",
      "metadata": {},
      "outputs": [],
      "source": [
        "def get_href(book):\n",
        "    href = book.find_all('a')[0]['href']\n",
        "    return href"
      ]
    },
    {
      "cell_type": "code",
      "execution_count": 23,
      "id": "4050d10a",
      "metadata": {},
      "outputs": [],
      "source": [
        "def get_urls():\n",
        "    url_grid = get_url_grid(catalogue_url)\n",
        "    url_list = []\n",
        "    for book in url_grid:\n",
        "        new_url = base_url+get_href(book)\n",
        "        url_list.append(new_url)\n",
        "    return url_list"
      ]
    },
    {
      "cell_type": "code",
      "execution_count": 91,
      "id": "ec8e332d",
      "metadata": {},
      "outputs": [],
      "source": [
        "def get_books():\n",
        "    url_list = get_urls()\n",
        "    book_dict = {}\n",
        "    index = 0\n",
        "    for url in url_list:\n",
        "        book_dict[index] = get_product_details(url)\n",
        "        index += 1\n",
        "    \n",
        "    return book_dict"
      ]
    }
  ],
  "metadata": {
    "colab": {
      "provenance": []
    },
    "kernelspec": {
      "display_name": "base",
      "language": "python",
      "name": "python3"
    },
    "language_info": {
      "codemirror_mode": {
        "name": "ipython",
        "version": 3
      },
      "file_extension": ".py",
      "mimetype": "text/x-python",
      "name": "python",
      "nbconvert_exporter": "python",
      "pygments_lexer": "ipython3",
      "version": "3.12.7"
    }
  },
  "nbformat": 4,
  "nbformat_minor": 5
}
